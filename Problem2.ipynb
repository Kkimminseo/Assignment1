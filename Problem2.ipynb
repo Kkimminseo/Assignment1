{
 "cells": [
  {
   "cell_type": "code",
   "execution_count": null,
   "metadata": {
    "vscode": {
     "languageId": "plaintext"
    }
   },
   "outputs": [],
   "source": []
  },
  {
   "cell_type": "markdown",
   "metadata": {},
   "source": [
    "<h2>2번 문제 - 필수과제</h2>"
   ]
  },
  {
   "cell_type": "code",
   "execution_count": null,
   "metadata": {},
   "outputs": [],
   "source": [
    "# Person이라는 클래스 정의\n",
    "class Person:\n",
    "    # 이름, 성별, 나이를 입력받도록\n",
    "    def __init__(self, name, gender, age):\n",
    "        self.name = name\n",
    "        self.gender = gender\n",
    "        self.age = age\n",
    "    # 이름, 성별, 나이 출력하는 함수 정의\n",
    "    def display(self):\n",
    "        # 줄바꿈을 위해 return 값 없이 print로\n",
    "        print(f'이름 : {self.name}, 성별 : {self.gender}\\n나이 : {self.age}')"
   ]
  },
  {
   "cell_type": "code",
   "execution_count": null,
   "metadata": {},
   "outputs": [
    {
     "name": "stdout",
     "output_type": "stream",
     "text": [
      "이름 : faker, 성별 : male\n",
      "나이 : 29\n"
     ]
    }
   ],
   "source": [
    "# 객체 내에서 값 입력받기, 객체 생성하면서 바로 입력받는 경우\n",
    "Person1 = Person(name = input('이름 : '), gender = input('성별 : '), \\\n",
    "                age = int(input('나이 : ')))\n",
    "Person1.display()"
   ]
  },
  {
   "cell_type": "code",
   "execution_count": null,
   "metadata": {},
   "outputs": [
    {
     "name": "stdout",
     "output_type": "stream",
     "text": [
      "이름 : kim, 성별 : male\n",
      "나이 : 20\n"
     ]
    }
   ],
   "source": [
    "# 입력값 변수에 저장한 다음 객체 생성하기\n",
    "age = int(input('나이 : '))\n",
    "name = input('이름 : ')\n",
    "gender = input('성별 : ')\n",
    "Person2 = Person(name, gender, age)\n",
    "Person2.display()"
   ]
  },
  {
   "cell_type": "markdown",
   "metadata": {},
   "source": [
    "<h2>2번 문제 - 추가 도전과제</h2>"
   ]
  },
  {
   "cell_type": "code",
   "execution_count": null,
   "metadata": {},
   "outputs": [],
   "source": [
    "class Person:\n",
    "    def __init__(self, name, gender, age):\n",
    "        self.name = name\n",
    "        self.gender = gender\n",
    "        self.age = age\n",
    "\n",
    "    def display(self):\n",
    "        print(f'이름 : {self.name}, 성별 : {self.gender}\\n나이 : {self.age}')\n",
    "    # 나이가 20세 이상이면 성인, 아래면 학생이 출력되는 함수 정의\n",
    "    def greet(self):\n",
    "        if self.age >= 20:\n",
    "            print(f'안녕하세요, {self.name}! 성인이시군요!')\n",
    "        else:\n",
    "            print(f'안녕하세요, {self.name}! 학생이시군요!')"
   ]
  },
  {
   "cell_type": "code",
   "execution_count": null,
   "metadata": {},
   "outputs": [
    {
     "name": "stdout",
     "output_type": "stream",
     "text": [
      "이름 : jin, 성별 : female\n",
      "나이 : 29\n",
      "안녕하세요, jin! 성인이시군요!\n"
     ]
    }
   ],
   "source": [
    "# 입력값 변수에 저장한 다음 객체 생성하기\n",
    "age = int(input('나이 : '))\n",
    "name = input('이름 : ')\n",
    "while True:\n",
    "    gender = input('성별 : ')\n",
    "    if gender in ['female', 'male']:\n",
    "        break\n",
    "    else:\n",
    "        print(\"잘못된 성별을 입력하셨습니다. 'male' 또는 'female'을 입력하세요.\")\n",
    "Person1 = Person(name, gender, age)\n",
    "# 정보를 출력하는 함수\n",
    "Person1.display()\n",
    "# 나이에 따라 인사하는 함수\n",
    "Person1.greet()"
   ]
  },
  {
   "cell_type": "code",
   "execution_count": null,
   "metadata": {},
   "outputs": [
    {
     "name": "stdout",
     "output_type": "stream",
     "text": [
      "이름 : hong, 성별 : male\n",
      "나이 : 17\n",
      "안녕하세요, hong! 학생이시군요!\n"
     ]
    }
   ],
   "source": [
    "# 성별 오류 없이 입력받는 함수 선언\n",
    "def get_gender():\n",
    "    while True:\n",
    "        gender = input('성별 : ')\n",
    "        if gender in ['male', 'female']:\n",
    "            return gender\n",
    "        else:\n",
    "            print(\"잘못된 성별을 입력하셨습니다. 'male' 또는 'female'을 입력하세요.\")\n",
    "# 객체 내에서 값 입력받기, 객체 생성하면서 바로 입력받는 경우\n",
    "Person2 = Person(name = input('이름 : '), gender = get_gender(), \\\n",
    "                age = int(input('나이 : ')))\n",
    "\n",
    "# 정보를 출력하는 함수\n",
    "Person2.display()\n",
    "# 나이에 따라 인사하는 함수\n",
    "Person2.greet()"
   ]
  }
 ],
 "metadata": {
  "language_info": {
   "name": "python"
  }
 },
 "nbformat": 4,
 "nbformat_minor": 2
}
