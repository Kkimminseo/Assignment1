{
 "cells": [
  {
   "cell_type": "markdown",
   "metadata": {},
   "source": [
    "<h2>1번 문제 - 필수과제<br></h2>\n",
    "<h3>이 과제에서는 파이썬 프로그래밍 언어를 활용하여 숫자 맞추기 게임을 만드는 것이 목표입니다. 숫자 맞추기 게임은 컴퓨터가 생각한 숫자를 맞추는 게임으로, 플레이어는 숫자를 입력하고 컴퓨터가 생각한 숫자와 비교하여 “작다\" 혹은 \"크다\" 힌트를 받아가며 숫자를 맞추는 게임입니다.</h3>"
   ]
  },
  {
   "cell_type": "code",
   "execution_count": 51,
   "metadata": {},
   "outputs": [
    {
     "name": "stdout",
     "output_type": "stream",
     "text": [
      "1과 10 사이의 숫자를 하나 정했습니다.\n",
      "이 숫자는 무엇일까요?\n",
      "너무 작습니다. 다시 입력하세요.\n",
      "너무 큽니다. 다시 입력하세요.\n",
      "정답입니다!\n"
     ]
    }
   ],
   "source": [
    "#randint만 사용하기 때문에 random에서 randint만 따로 불러서 사용\n",
    "from random import randint\n",
    "#randint를 사용해서 1~10 사이의 무작위 정수 하나 생성하기\n",
    "answer = randint(1, 10)\n",
    "#문제 내는 문장 출력하기, 이 때 줄바꿈을 위해 \\n 사용\n",
    "print('1과 10 사이의 숫자를 하나 정했습니다.\\n이 숫자는 무엇일까요?')\n",
    "#현재 못맞춘 상태이므로 이 상태를 표현할 변수 생성 -> 맞추면 True로\n",
    "current = False\n",
    "#current = False이면 계속 반복하고, 맞춘 경우에 current에 True를 대입해서 반복문 종료 -> While문\n",
    "while current == False:\n",
    "    #유저의 대답을 입력받는데 string이므로 int()를 사용해 변환\n",
    "    my_answer = int(input('예상 숫자: '))\n",
    "    #내 대답이 더 클 경우\n",
    "    if my_answer > answer:\n",
    "        print('너무 큽니다. 다시 입력하세요.')\n",
    "    #내 대답이 더 작을 경우\n",
    "    elif my_answer < answer:\n",
    "        print('너무 작습니다. 다시 입력하세요.')\n",
    "    #남은 경우는 내 대답이 정답일 경우이다.\n",
    "    else:\n",
    "        print('정답입니다!')\n",
    "        #while 반복 조건이 False가 되어 종료된다.\n",
    "        current = True"
   ]
  },
  {
   "cell_type": "markdown",
   "metadata": {},
   "source": [
    "<h2>1번 문제 - 추가 도전과제</h2>\n",
    "<h3>1. 플레이어가 입력한 숫자가 범위를 벗어날 경우, 적절한 안내 메시지를 출력하여 유효한 범위 내의 숫자를 입력하도록 유도하세요.<br>\n",
    "2. 플레이어가 게임을 반복하고 싶을 경우, 게임 재시작 여부를 묻고 그에 따라 게임을 초기화하거나 종료하는 기능을 추가하세요.</h3>"
   ]
  },
  {
   "cell_type": "code",
   "execution_count": null,
   "metadata": {},
   "outputs": [
    {
     "name": "stdout",
     "output_type": "stream",
     "text": [
      "1과 10 사이의 숫자를 하나 정했습니다.\n",
      "이 숫자는 무엇일까요?\n",
      "너무 큽니다. 다시 입력하세요.\n",
      "너무 작습니다. 다시 입력하세요.\n",
      "정답입니다!\n"
     ]
    }
   ],
   "source": [
    "#randint만 사용하기 때문에 random에서 randint만 따로 불러서 사용\n",
    "from random import randint\n",
    "#True임으로 계속 게임 반복, 더 안한다고 하면 break하도록\n",
    "play = True\n",
    "while play:\n",
    "    #randint를 사용해서 1~10 사이의 무작위 정수 하나 생성하기\n",
    "    answer = randint(1, 10)\n",
    "    #문제 내는 문장 출력하기, 이 때 줄바꿈을 위해 \\n 사용\n",
    "    print('1과 10 사이의 숫자를 하나 정했습니다.\\n이 숫자는 무엇일까요?')\n",
    "    #현재 못맞춘 상태이므로 이 상태를 표현할 변수 생성 -> 맞추면 True로\n",
    "    current = False\n",
    "    while current == False:\n",
    "        #유저의 대답을 입력받는데 string이므로 int()를 사용해 변환\n",
    "        #내 대답이 범위 내에 없으면 계속 돌고, 범위 내에 있으면 break\n",
    "        while True:\n",
    "            my_answer = int(input('예상 숫자: '))\n",
    "            if my_answer not in range(1, 11):\n",
    "                print('범위 내의 숫자를 입력하세요!')\n",
    "            elif my_answer in range(1, 11):\n",
    "                break\n",
    "        #내 대답이 더 클 경우\n",
    "        if my_answer > answer:\n",
    "            print('너무 큽니다. 다시 입력하세요.')\n",
    "        #내 대답이 더 작을 경우\n",
    "        elif my_answer < answer:\n",
    "            print('너무 작습니다. 다시 입력하세요.')\n",
    "        #남은 경우는 내 대답이 정답일 경우이다.\n",
    "        else:\n",
    "            print('정답입니다!')\n",
    "            #current에 True가 들어가면서 while문(숫자맞추기 게임)이 종료됨과 동시에 게임 반복 while문으로 나감\n",
    "            current = True\n",
    "    #게임 반복 while문에서, 다시 할지 입력받고 이에 따라 게임 반복을 할지 끝날지 정해짐.\n",
    "    restart = input('게임을 다시 하시겠습니까? (y/n)')\n",
    "    if restart == 'n':\n",
    "        # play에 False가 들어가서 가장 큰 while문(게임 반복에 대한) 조건이 바뀌어 반복문 중단\n",
    "        play = False"
   ]
  },
  {
   "cell_type": "markdown",
   "metadata": {},
   "source": [
    "<h3>1번 도전과제를 함수의 형태로 바꿔보았습니다. 호출하면 동일하게 작동합니다.</br>\n",
    "여러가지 게임 중 이 게임을 선택할 때 사용할 수 있을 것 같아서 시도해보았습니다.</h3>"
   ]
  },
  {
   "cell_type": "code",
   "execution_count": null,
   "metadata": {},
   "outputs": [
    {
     "name": "stdout",
     "output_type": "stream",
     "text": [
      "1과 10 사이의 숫자를 하나 정했습니다.\n",
      "이 숫자는 무엇일까요?\n",
      "너무 작습니다. 다시 입력하세요.\n",
      "너무 작습니다. 다시 입력하세요.\n",
      "너무 작습니다. 다시 입력하세요.\n",
      "정답입니다!\n"
     ]
    }
   ],
   "source": [
    "#randint만 사용하기 때문에 random에서 randint만 따로 불러서 사용\n",
    "from random import randint\n",
    "def numbergame():\n",
    "    #True임으로 계속 게임 반복, 더 안한다고 하면 break하도록\n",
    "    while True:\n",
    "        #randint를 사용해서 1~10 사이의 무작위 정수 하나 생성하기\n",
    "        answer = randint(1, 10)\n",
    "        #문제 내는 문장 출력하기, 이 때 줄바꿈을 위해 \\n 사용\n",
    "        print('1과 10 사이의 숫자를 하나 정했습니다.\\n이 숫자는 무엇일까요?')\n",
    "        #현재 못맞춘 상태이므로 이 상태를 표현할 변수 생성 -> 맞추면 True로\n",
    "        current = False\n",
    "        while current == False:\n",
    "            #유저의 대답을 입력받는데 string이므로 int()를 사용해 변환\n",
    "            #내 대답이 범위 내에 없으면 계속 돌고, 범위 내에 있으면 break\n",
    "            while True:\n",
    "                my_answer = int(input('예상 숫자: '))\n",
    "                if my_answer not in range(1, 11):\n",
    "                    print('범위 내의 숫자를 입력하세요!')\n",
    "                elif my_answer in range(1, 11):\n",
    "                    break\n",
    "            #내 대답이 더 클 경우\n",
    "            if my_answer > answer:\n",
    "                print('너무 큽니다. 다시 입력하세요.')\n",
    "            #내 대답이 더 작을 경우\n",
    "            elif my_answer < answer:\n",
    "                print('너무 작습니다. 다시 입력하세요.')\n",
    "            #남은 경우는 내 대답이 정답일 경우이다.\n",
    "            else:\n",
    "                print('정답입니다!')\n",
    "                current = True\n",
    "        restart = input('게임을 다시 하시겠습니까? (y/n)')\n",
    "        if restart == 'n':\n",
    "            break\n",
    "numbergame()"
   ]
  }
 ],
 "metadata": {
  "kernelspec": {
   "display_name": "Python 3",
   "language": "python",
   "name": "python3"
  },
  "language_info": {
   "codemirror_mode": {
    "name": "ipython",
    "version": 3
   },
   "file_extension": ".py",
   "mimetype": "text/x-python",
   "name": "python",
   "nbconvert_exporter": "python",
   "pygments_lexer": "ipython3",
   "version": "3.9.6"
  }
 },
 "nbformat": 4,
 "nbformat_minor": 2
}
